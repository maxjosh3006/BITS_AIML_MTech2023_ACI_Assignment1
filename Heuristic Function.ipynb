{
 "cells": [
  {
   "cell_type": "markdown",
   "id": "1c1b9343",
   "metadata": {},
   "source": [
    "Average Hueristic Cost"
   ]
  },
  {
   "cell_type": "code",
   "execution_count": 16,
   "id": "a82a8699",
   "metadata": {},
   "outputs": [
    {
     "name": "stdout",
     "output_type": "stream",
     "text": [
      "22.0\n"
     ]
    }
   ],
   "source": [
    "from collections import defaultdict\n",
    "\n",
    "class Graph:\n",
    "    def __init__(self):\n",
    "        self.graph = defaultdict(list)\n",
    "\n",
    "    def add_edge(self, u, v, w):\n",
    "        self.graph[u].append((v, w))\n",
    "\n",
    "    def dfs(self, v, visited, path, goal):\n",
    "        visited[v] = True\n",
    "        path.append(v)\n",
    "\n",
    "        if v == goal:\n",
    "            self.paths.append(path[:])\n",
    "        else:\n",
    "            for neighbor, _ in self.graph[v]:\n",
    "                if visited[neighbor] == False:\n",
    "                     self.dfs(neighbor, visited, path, goal)\n",
    "\n",
    "        path.pop()\n",
    "        visited[v] = False\n",
    "\n",
    "    def average_heuristic(self, start, goal):\n",
    "        self.paths = []\n",
    "        visited = {node: False for node in self.graph}\n",
    "\n",
    "        self.dfs(start, visited, [], goal)\n",
    "\n",
    "        total_distance = 0\n",
    "        for path in self.paths:\n",
    "            distance = 0\n",
    "            for i in range(len(path) - 1):\n",
    "                for neighbor, weight in self.graph[path[i]]:\n",
    "                    if neighbor == path[i + 1]:\n",
    "                        distance += weight\n",
    "                        break\n",
    "            total_distance += distance\n",
    "\n",
    "        return total_distance / len(self.paths) if self.paths else float('inf')\n",
    "\n",
    "# Usage\n",
    "g = Graph()\n",
    "g.add_edge('A', 'B', 15)\n",
    "g.add_edge('A', 'C', 10)\n",
    "g.add_edge('A', 'D', 17)\n",
    "g.add_edge('A', 'G', 5)\n",
    "g.add_edge('B', 'D', 12)\n",
    "g.add_edge('C', 'G', 7)\n",
    "g.add_edge('D', 'E', 2)\n",
    "g.add_edge('D', 'F', 10)\n",
    "g.add_edge('E', 'E', 0)\n",
    "g.add_edge('D', 'H', 4)\n",
    "g.add_edge('G', 'H', 25)\n",
    "g.add_edge('H', 'F', 11)\n",
    "g.add_edge('F', 'F', 0)\n",
    "\n",
    "\n",
    "print(g.average_heuristic('A', 'D'))\n"
   ]
  },
  {
   "cell_type": "code",
   "execution_count": null,
   "id": "082e9b45",
   "metadata": {},
   "outputs": [],
   "source": []
  }
 ],
 "metadata": {
  "kernelspec": {
   "display_name": "Python 3 (ipykernel)",
   "language": "python",
   "name": "python3"
  },
  "language_info": {
   "codemirror_mode": {
    "name": "ipython",
    "version": 3
   },
   "file_extension": ".py",
   "mimetype": "text/x-python",
   "name": "python",
   "nbconvert_exporter": "python",
   "pygments_lexer": "ipython3",
   "version": "3.11.5"
  }
 },
 "nbformat": 4,
 "nbformat_minor": 5
}
